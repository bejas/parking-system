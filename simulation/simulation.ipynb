{
 "cells": [
  {
   "cell_type": "code",
   "execution_count": null,
   "metadata": {},
   "outputs": [],
   "source": [
    "import json\n",
    "import requests"
   ]
  },
  {
   "cell_type": "code",
   "execution_count": null,
   "metadata": {},
   "outputs": [],
   "source": [
    "# User informations.\n",
    "\n",
    "user = {'username': 'admin', 'mail': 'admin@parking-system.it', 'password': 'admin', 'token': ''}"
   ]
  },
  {
   "cell_type": "code",
   "execution_count": null,
   "metadata": {},
   "outputs": [],
   "source": [
    "# HTTP methods for the server.\n",
    "\n",
    "def login(mail, pwd):\n",
    "    url = \"http://localhost:8080/login\"\n",
    "    headers = {\"cache-control\": \"no-cache\", \"Content-Type\": \"application/json\"}\n",
    "\n",
    "    response = requests.get(url, headers={}, auth=(mail, pwd))\n",
    "\n",
    "    # set token to user\n",
    "    user[\"token\"] = response.json()[\"token\"]\n",
    "\n",
    "    return response.json()\n",
    "\n",
    "def get_cars_inside():\n",
    "    url = \"http://localhost:8080/cars\"\n",
    "    params = {\"inside\": \"true\"}\n",
    "    headers = {\"Authorization\": \"Bearer \" + user[\"token\"], \"cache-control\": \"no-cache\", \"Content-Type\": \"application/json\"}\n",
    "\n",
    "    response = requests.get(url=url, params=params, headers=headers)\n",
    "\n",
    "    return response.json()\n",
    "\n",
    "def insert_car(plate):\n",
    "    url = \"http://localhost:8080/cars\"\n",
    "    headers = {\"Authorization\": \"Bearer \" + user[\"token\"], \"cache-control\": \"no-cache\", \"Content-Type\": \"application/json\"}\n",
    "    body = {\"plate\": plate}\n",
    "\n",
    "    response = requests.post(url=url, headers=headers, data=json.dumps(body))\n",
    "\n",
    "    return response.json()\n",
    "\n",
    "def make_payment(plate):\n",
    "    url = \"http://localhost:8080/payment\" + \"/\" + plate\n",
    "    headers = {\"cache-control\": \"no-cache\", \"Content-Type\": \"application/json\"}\n",
    "\n",
    "    response = requests.post(url=url, headers=headers)\n",
    "\n",
    "    return response.json()\n",
    "\n",
    "def remove_car(plate):\n",
    "    url = \"http://localhost:8080/cars\" + \"/\" + plate\n",
    "    headers = {\"Authorization\": \"Bearer \" + user[\"token\"], \"cache-control\": \"no-cache\", \"Content-Type\": \"application/json\"}\n",
    "\n",
    "    response = requests.patch(url=url, headers=headers, data=json.dumps(body))\n",
    "\n",
    "    return response.json()"
   ]
  },
  {
   "cell_type": "code",
   "execution_count": null,
   "metadata": {},
   "outputs": [],
   "source": [
    "login(user['mail'], user['password'])"
   ]
  },
  {
   "cell_type": "code",
   "execution_count": null,
   "metadata": {},
   "outputs": [],
   "source": [
    "insert_car(\"asfddf\")"
   ]
  },
  {
   "cell_type": "code",
   "execution_count": null,
   "metadata": {},
   "outputs": [],
   "source": [
    "make_payment(\"asfddf\")"
   ]
  },
  {
   "cell_type": "code",
   "execution_count": null,
   "metadata": {},
   "outputs": [],
   "source": [
    "remove_car(\"asfddf\")"
   ]
  },
  {
   "cell_type": "code",
   "execution_count": null,
   "metadata": {},
   "outputs": [],
   "source": [
    "get_cars_inside()"
   ]
  },
  {
   "cell_type": "code",
   "execution_count": null,
   "metadata": {},
   "outputs": [],
   "source": [
    "##################################################################################################"
   ]
  },
  {
   "cell_type": "code",
   "execution_count": null,
   "metadata": {},
   "outputs": [],
   "source": []
  },
  {
   "cell_type": "code",
   "execution_count": null,
   "metadata": {},
   "outputs": [],
   "source": [
    "# Call when completely done to release memory EXIT\n",
    "alpr.unload()"
   ]
  },
  {
   "cell_type": "code",
   "execution_count": null,
   "metadata": {},
   "outputs": [],
   "source": [
    "from openalpr import Alpr\n",
    "import sys\n",
    "\n",
    "# You may want to change these two variables. Refer to the official guide http://doc.openalpr.com/sdk.html#id10\n",
    "alpr = Alpr(\"eu\", \"/usr/local/src/openalpr/config/openalpr.conf.defaults\", \"/usr/local/src/openalpr/runtime_data\")\n",
    "if not alpr.is_loaded():\n",
    "    print(\"Error loading OpenALPR\")\n",
    "    sys.exit(1)\n",
    "\n",
    "alpr.set_top_n(10)\n",
    "#alpr.set_default_region(\"md\")\n",
    "alpr.set_default_region(\"eu\")\n",
    "\n"
   ]
  },
  {
   "cell_type": "code",
   "execution_count": null,
   "metadata": {},
   "outputs": [],
   "source": [
    "def alpr_get_plate(image):\n",
    "    results = alpr.recognize_file(image)\n",
    "    #results\n",
    "\n",
    "    if results[\"results\"]:\n",
    "        return (results[\"results\"][0][\"plate\"], results[\"results\"][0][\"confidence\"])\n",
    "    else:\n",
    "        return False"
   ]
  },
  {
   "cell_type": "code",
   "execution_count": null,
   "metadata": {},
   "outputs": [],
   "source": [
    "alpr_get_plate(\"data/040603/P1010001.jpg\")"
   ]
  },
  {
   "cell_type": "code",
   "execution_count": null,
   "metadata": {},
   "outputs": [],
   "source": []
  }
 ],
 "metadata": {
  "kernelspec": {
   "display_name": "Python 3",
   "language": "python",
   "name": "python3"
  },
  "language_info": {
   "codemirror_mode": {
    "name": "ipython",
    "version": 3
   },
   "file_extension": ".py",
   "mimetype": "text/x-python",
   "name": "python",
   "nbconvert_exporter": "python",
   "pygments_lexer": "ipython3",
   "version": "3.7.4"
  }
 },
 "nbformat": 4,
 "nbformat_minor": 2
}
