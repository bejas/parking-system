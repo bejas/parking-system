{
 "cells": [
  {
   "cell_type": "code",
   "execution_count": null,
   "metadata": {},
   "outputs": [],
   "source": [
    "import json\n",
    "import requests"
   ]
  },
  {
   "cell_type": "code",
   "execution_count": null,
   "metadata": {},
   "outputs": [],
   "source": [
    "# User informations\n",
    "\n",
    "user = {'username': 'admin', 'mail': 'admin@parking-system.it', 'password': 'admin', 'token': ''}"
   ]
  },
  {
   "cell_type": "code",
   "execution_count": null,
   "metadata": {},
   "outputs": [],
   "source": [
    "# HTTP methods for the server\n",
    "\n",
    "def http_login(mail, pwd):\n",
    "    url = \"http://localhost:8080/login\"\n",
    "    headers = {\"cache-control\": \"no-cache\", \"Content-Type\": \"application/json\"}\n",
    "\n",
    "    response = requests.get(url, headers={}, auth=(mail, pwd))\n",
    "\n",
    "    # set token to user\n",
    "    user[\"token\"] = response.json()[\"token\"]\n",
    "\n",
    "    return response.json()\n",
    "\n",
    "def http_get_cars_inside():\n",
    "    url = \"http://localhost:8080/cars\"\n",
    "    params = {\"inside\": \"true\"}\n",
    "    headers = {\"Authorization\": \"Bearer \" + user[\"token\"], \"cache-control\": \"no-cache\", \"Content-Type\": \"application/json\"}\n",
    "\n",
    "    response = requests.get(url=url, params=params, headers=headers)\n",
    "\n",
    "    return response.json()\n",
    "\n",
    "def http_insert_car(plate):\n",
    "    url = \"http://localhost:8080/cars\"\n",
    "    headers = {\"Authorization\": \"Bearer \" + user[\"token\"], \"cache-control\": \"no-cache\", \"Content-Type\": \"application/json\"}\n",
    "    body = {\"plate\": plate}\n",
    "\n",
    "    response = requests.post(url=url, headers=headers, data=json.dumps(body))\n",
    "\n",
    "    return response.json()\n",
    "\n",
    "def http_make_payment(plate):\n",
    "    url = \"http://localhost:8080/payment\" + \"/\" + plate\n",
    "    headers = {\"cache-control\": \"no-cache\", \"Content-Type\": \"application/json\"}\n",
    "\n",
    "    response = requests.post(url=url, headers=headers)\n",
    "\n",
    "    return response.json()\n",
    "\n",
    "def http_remove_car(plate):\n",
    "    url = \"http://localhost:8080/cars\" + \"/\" + plate\n",
    "    headers = {\"Authorization\": \"Bearer \" + user[\"token\"], \"cache-control\": \"no-cache\", \"Content-Type\": \"application/json\"}\n",
    "\n",
    "    response = requests.patch(url=url, headers=headers, data=json.dumps(body))\n",
    "\n",
    "    return response.json()"
   ]
  },
  {
   "cell_type": "code",
   "execution_count": null,
   "metadata": {},
   "outputs": [],
   "source": [
    "# Login and save JWT token\n",
    "\n",
    "http_login(user['mail'], user['password'])"
   ]
  },
  {
   "cell_type": "code",
   "execution_count": null,
   "metadata": {},
   "outputs": [],
   "source": [
    "##################################################################################################"
   ]
  },
  {
   "cell_type": "code",
   "execution_count": null,
   "metadata": {},
   "outputs": [],
   "source": [
    "## Call when completely done to release memory EXIT\n",
    "# alpr.unload()"
   ]
  },
  {
   "cell_type": "code",
   "execution_count": null,
   "metadata": {},
   "outputs": [],
   "source": [
    "# Load OpenALPR library\n",
    "\n",
    "from openalpr import Alpr\n",
    "import sys\n",
    "\n",
    "# You may want to change these two variables. Refer to the official guide http://doc.openalpr.com/sdk.html#id10\n",
    "#conf = \"/usr/local/src/openalpr/config/openalpr.conf.defaults\"\n",
    "#runtime_data = \"/usr/local/src/openalpr/runtime_data\"\n",
    "conf = \"openalpr/config/openalpr.conf.defaults\"\n",
    "runtime_data = \"openalpr/runtime_data\"\n",
    "\n",
    "alpr = Alpr(\"eu\", conf, runtime_data)\n",
    "if not alpr.is_loaded():\n",
    "    print(\"Error loading OpenALPR\")\n",
    "    sys.exit(1)\n",
    "\n",
    "alpr.set_top_n(10)\n",
    "alpr.set_default_region(\"eu\")\n",
    "\n",
    "\n",
    "# Function to get plate number from a file\n",
    "\n",
    "def alpr_get_plate(image):\n",
    "    results = alpr.recognize_file(image)\n",
    "\n",
    "    if results[\"results\"]:\n",
    "        return (results[\"results\"][0][\"plate\"], results[\"results\"][0][\"confidence\"])\n",
    "    else:\n",
    "        return False"
   ]
  },
  {
   "cell_type": "code",
   "execution_count": null,
   "metadata": {},
   "outputs": [],
   "source": [
    "# Load all 'jpg' files from database\n",
    "\n",
    "from pathlib import Path\n",
    "import glob\n",
    "\n",
    "db_files = []\n",
    "for f in Path('data').glob('**/*.jpg'):\n",
    "    db_files.append(f.as_posix())"
   ]
  },
  {
   "cell_type": "code",
   "execution_count": null,
   "metadata": {},
   "outputs": [],
   "source": [
    "# Run ALPR algorithm for all database files and store result\n",
    "\n",
    "db_plates = []\n",
    "\n",
    "def get_all_plates():\n",
    "    success = 0;\n",
    "    fail = 0;\n",
    "    \n",
    "    for f in db_files:\n",
    "        r = alpr_get_plate(f)\n",
    "        if r == False:\n",
    "            fail+=1\n",
    "        else:\n",
    "            success+=1\n",
    "            db_plates.append(r)\n",
    "    \n",
    "    return {\"success\": success, \"fail\": fail}"
   ]
  },
  {
   "cell_type": "code",
   "execution_count": null,
   "metadata": {},
   "outputs": [],
   "source": [
    "db_result = get_all_plates()\n",
    "db_result"
   ]
  },
  {
   "cell_type": "code",
   "execution_count": null,
   "metadata": {},
   "outputs": [],
   "source": [
    "import time\n",
    "\n",
    "for p in db_plates:\n",
    "    print(make_payment(p[0]))\n",
    "    time.sleep( 0.2 )"
   ]
  },
  {
   "cell_type": "code",
   "execution_count": null,
   "metadata": {},
   "outputs": [],
   "source": [
    "# Simulation\n",
    "\n",
    "\n",
    "\n"
   ]
  },
  {
   "cell_type": "code",
   "execution_count": null,
   "metadata": {},
   "outputs": [],
   "source": []
  },
  {
   "cell_type": "code",
   "execution_count": null,
   "metadata": {},
   "outputs": [],
   "source": []
  }
 ],
 "metadata": {
  "kernelspec": {
   "display_name": "Python 3",
   "language": "python",
   "name": "python3"
  },
  "language_info": {
   "codemirror_mode": {
    "name": "ipython",
    "version": 3
   },
   "file_extension": ".py",
   "mimetype": "text/x-python",
   "name": "python",
   "nbconvert_exporter": "python",
   "pygments_lexer": "ipython3",
   "version": "3.7.4"
  }
 },
 "nbformat": 4,
 "nbformat_minor": 2
}
